{
 "cells": [
  {
   "cell_type": "code",
   "execution_count": 1,
   "id": "981186ae-9811-43aa-a12f-f9bb2ffcff9c",
   "metadata": {},
   "outputs": [],
   "source": [
    "from qiskit_nature.operators.second_quantization.sparse_fermionic_op import SparseFermionicOp"
   ]
  },
  {
   "cell_type": "code",
   "execution_count": 2,
   "id": "6811645a-9ba2-4886-98ac-7e3c2f821bd1",
   "metadata": {},
   "outputs": [
    {
     "data": {
      "text/plain": [
       "SparseFermionicOp('+_0 -_0')"
      ]
     },
     "execution_count": 2,
     "metadata": {},
     "output_type": "execute_result"
    }
   ],
   "source": [
    "op = SparseFermionicOp(\"+_0 -_0\")\n",
    "op"
   ]
  },
  {
   "cell_type": "code",
   "execution_count": 3,
   "id": "484fea04-1893-4056-9999-a9a65774478d",
   "metadata": {},
   "outputs": [
    {
     "data": {
      "text/plain": [
       "SparseFermionicOp([('+_0 -_0 +_0 -_0', (1+0j)), ('+_0 -_0', (1+0j))])"
      ]
     },
     "execution_count": 3,
     "metadata": {},
     "output_type": "execute_result"
    }
   ],
   "source": [
    "op2 = op @ op + op\n",
    "op2"
   ]
  },
  {
   "cell_type": "code",
   "execution_count": 4,
   "id": "d82aad97-4264-4988-b1d3-a7ae1f09a059",
   "metadata": {},
   "outputs": [
    {
     "data": {
      "text/plain": [
       "SparseFermionicOp(('+_0 -_0', (2+0j)))"
      ]
     },
     "execution_count": 4,
     "metadata": {},
     "output_type": "execute_result"
    }
   ],
   "source": [
    "op2.reduce()"
   ]
  },
  {
   "cell_type": "code",
   "execution_count": 5,
   "id": "172e52a7-3cbe-4792-ae64-700d0bc20afd",
   "metadata": {},
   "outputs": [
    {
     "data": {
      "text/plain": [
       "SparseFermionicOp([('+_0 -_0', (1+0j)), ('+_0 -_0', (1+0j))])"
      ]
     },
     "execution_count": 5,
     "metadata": {},
     "output_type": "execute_result"
    }
   ],
   "source": [
    "op + op"
   ]
  },
  {
   "cell_type": "code",
   "execution_count": 6,
   "id": "42568ce4-766a-4ca5-bbc1-13f177cd658c",
   "metadata": {},
   "outputs": [
    {
     "data": {
      "text/plain": [
       "SparseFermionicOp([('+_0 -_0', (1+0j)), ('+_0 -_0', (-1+0j))])"
      ]
     },
     "execution_count": 6,
     "metadata": {},
     "output_type": "execute_result"
    }
   ],
   "source": [
    "op - op"
   ]
  },
  {
   "cell_type": "code",
   "execution_count": 7,
   "id": "fdf0e0ac-ab52-4e7f-bb6a-522f3162c4e6",
   "metadata": {},
   "outputs": [
    {
     "data": {
      "text/plain": [
       "SparseFermionicOp(('', 0j))"
      ]
     },
     "execution_count": 7,
     "metadata": {},
     "output_type": "execute_result"
    }
   ],
   "source": [
    "(op - op).reduce()"
   ]
  },
  {
   "cell_type": "code",
   "execution_count": 8,
   "id": "136e4db9-dbff-404b-975b-d3c511f6909a",
   "metadata": {},
   "outputs": [
    {
     "data": {
      "text/plain": [
       "SparseFermionicOp(('+_0 -_0', (3+0j)))"
      ]
     },
     "execution_count": 8,
     "metadata": {},
     "output_type": "execute_result"
    }
   ],
   "source": [
    "3 * op"
   ]
  },
  {
   "cell_type": "code",
   "execution_count": 9,
   "id": "51569b3c-d909-4099-b14e-4004907bd913",
   "metadata": {},
   "outputs": [
    {
     "data": {
      "text/plain": [
       "SparseFermionicOp('+_0 -_0')"
      ]
     },
     "execution_count": 9,
     "metadata": {},
     "output_type": "execute_result"
    }
   ],
   "source": [
    "op.adjoint()"
   ]
  },
  {
   "cell_type": "code",
   "execution_count": 10,
   "id": "139101a2-6f61-48bf-b4e7-203c624b36f0",
   "metadata": {},
   "outputs": [
    {
     "data": {
      "text/plain": [
       "SparseFermionicOp(('+_0 -_0', -1j))"
      ]
     },
     "execution_count": 10,
     "metadata": {},
     "output_type": "execute_result"
    }
   ],
   "source": [
    "(1j * op).adjoint()"
   ]
  },
  {
   "cell_type": "code",
   "execution_count": 11,
   "id": "b6196aa6-769b-4278-b85b-4cf978d48933",
   "metadata": {},
   "outputs": [
    {
     "data": {
      "text/plain": [
       "SparseFermionicOp('-_0')"
      ]
     },
     "execution_count": 11,
     "metadata": {},
     "output_type": "execute_result"
    }
   ],
   "source": [
    "SparseFermionicOp(\"+_0\").adjoint()"
   ]
  },
  {
   "cell_type": "code",
   "execution_count": 13,
   "id": "be4b4747-9aa5-4317-93e9-415a11bec789",
   "metadata": {},
   "outputs": [
    {
     "data": {
      "text/plain": [
       "SparseFermionicOp([('', (2+0j)), ('+_0 -_0', (1+0j))])"
      ]
     },
     "execution_count": 13,
     "metadata": {},
     "output_type": "execute_result"
    }
   ],
   "source": [
    "(SparseFermionicOp((\"\", 2))+op).reduce()"
   ]
  },
  {
   "cell_type": "code",
   "execution_count": null,
   "id": "2687e710-c879-4990-9a3f-f6c1ef2bcd9e",
   "metadata": {},
   "outputs": [],
   "source": []
  }
 ],
 "metadata": {
  "kernelspec": {
   "display_name": "Nature",
   "language": "python",
   "name": "nature-dev"
  },
  "language_info": {
   "codemirror_mode": {
    "name": "ipython",
    "version": 3
   },
   "file_extension": ".py",
   "mimetype": "text/x-python",
   "name": "python",
   "nbconvert_exporter": "python",
   "pygments_lexer": "ipython3",
   "version": "3.8.5"
  }
 },
 "nbformat": 4,
 "nbformat_minor": 5
}
